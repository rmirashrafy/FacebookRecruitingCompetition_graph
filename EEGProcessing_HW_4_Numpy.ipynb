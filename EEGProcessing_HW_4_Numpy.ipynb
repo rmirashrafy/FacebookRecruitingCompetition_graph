{
  "nbformat": 4,
  "nbformat_minor": 0,
  "metadata": {
    "colab": {
      "provenance": [],
      "include_colab_link": true
    },
    "kernelspec": {
      "name": "python3",
      "display_name": "Python 3"
    },
    "language_info": {
      "name": "python"
    }
  },
  "cells": [
    {
      "cell_type": "markdown",
      "metadata": {
        "id": "view-in-github",
        "colab_type": "text"
      },
      "source": [
        "<a href=\"https://colab.research.google.com/github/rmirashrafy/FacebookRecruitingCompetition_graph/blob/master/EEGProcessing_HW_4_Numpy.ipynb\" target=\"_parent\"><img src=\"https://colab.research.google.com/assets/colab-badge.svg\" alt=\"Open In Colab\"/></a>"
      ]
    },
    {
      "cell_type": "markdown",
      "source": [
        "# Neurailogic Research Center\n",
        "<div style=\"font-family: Arial, sans-serif; margin: 20px;\">\n",
        "    <h1 style=\"text-align: center; color: #333;\">EEG Processing: An Entry to the World of Brain Waves</h1>\n",
        "    <h2 style=\"text-align: center; color: #555;\">Home Work 4: Python - Numpy</h2>\n",
        "    <p style=\"text-align: center; color: #666; font-size: 16px;\">\n",
        "        Author: Mohammadreza Shahsavari<br>\n",
        "        Contact: <a href=\"mailto:mohamadrezashahsavary@gmail.com\" style=\"color: #0066cc; text-decoration: none;\">mohamadrezashahsavary@gmail.com</a>\n",
        "    </p>\n",
        "</div>\n",
        "\n",
        "\n",
        "\n",
        "\n",
        "\n"
      ],
      "metadata": {
        "id": "qboUkWqjC2uc"
      }
    },
    {
      "cell_type": "markdown",
      "source": [
        "# 1. Download and Inspect the EEG Data\n",
        "\n",
        "After running the first cell that downloads the EEG `.edf` data into `eeg_edf_path`, your task is to inspect the structure of the data. Print the **number of channels** and the **number of time points (samples)** for each channel. This will help you understand the dimensions of the data.\n",
        "\n",
        "**Questions**:\n",
        "\n",
        "*   Why is this important?\n",
        "\n",
        "\n",
        "\n",
        "\n"
      ],
      "metadata": {
        "id": "xShV_cRXXsnz"
      }
    },
    {
      "cell_type": "markdown",
      "source": [
        "## Run the Below Cell to Download the EDF Data"
      ],
      "metadata": {
        "id": "OEH2xJlNsMUK"
      }
    },
    {
      "cell_type": "code",
      "source": [
        "# Installing the required library for reading EDF files\n",
        "!pip install pyEDFlib\n",
        "\n",
        "# Dowloading the EDF data\n",
        "import gdown\n",
        "import os\n",
        "\n",
        "eeg_edf_url = 'https://drive.google.com/uc?id=1G-COaUG7JZrTFWJPKZ7He2xt4dpf_zhy'\n",
        "\n",
        "eeg_edf_file_name = 'S001R01.edf'\n",
        "\n",
        "\n",
        "gdown.download(eeg_edf_url, eeg_edf_file_name, quiet=False)\n",
        "\n",
        "eeg_edf_path = os.path.join('/content', eeg_edf_file_name)\n",
        "\n",
        "print('\\n\\nEEG files are downloaded and can be dound in the following paths:')\n",
        "print(eeg_edf_path)\n",
        "\n",
        "!ls -l /content"
      ],
      "metadata": {
        "id": "UH99dmHDsLSg"
      },
      "execution_count": null,
      "outputs": []
    },
    {
      "cell_type": "markdown",
      "source": [
        "##Load the EDF File to Pyton and Inspect the EEG Data in the Cell Below"
      ],
      "metadata": {
        "id": "tZfRdoAf823A"
      }
    },
    {
      "cell_type": "code",
      "source": [
        "eeg_data = None   # you have to load the EEG data and replace this"
      ],
      "metadata": {
        "id": "IIy7Vg4lYKt0"
      },
      "execution_count": null,
      "outputs": []
    },
    {
      "cell_type": "markdown",
      "source": [
        "# 2. Select Specific Channels and Data Segments\n",
        "\n",
        "Now that you're familiar with the data structure, extract the `first 32 channels` and the `first 10 seconds` of the signals. Verify the dimensions of the extracted data to ensure accuracy.\n",
        "\n",
        "**Questions**\n",
        "* Why is this important?\n",
        "\n"
      ],
      "metadata": {
        "id": "l4bzsK8tYPUu"
      }
    },
    {
      "cell_type": "code",
      "source": [],
      "metadata": {
        "id": "hmjcMd56YZU6"
      },
      "execution_count": null,
      "outputs": []
    },
    {
      "cell_type": "markdown",
      "source": [
        "# 3. Calculate Mean and Standard Deviation\n",
        "\n",
        "Next, calculate the **mean** and **standard deviation** for each selected channel. The mean provides an average value over time, while the standard deviation gives insight into how much the data fluctuates around that mean.\n",
        "\n",
        "**Questions:**\n",
        "\n",
        "  * Why are these statistical measures useful in analyzing EEG data?\n",
        "\n"
      ],
      "metadata": {
        "id": "JtFumBKkYiwM"
      }
    },
    {
      "cell_type": "code",
      "source": [],
      "metadata": {
        "id": "Hn2ClrLHZBDm"
      },
      "execution_count": null,
      "outputs": []
    },
    {
      "cell_type": "markdown",
      "source": [
        "# 4. Check for NaN Values and Fill Them\n",
        "\n",
        "Check if there are any **NaN (Not a Number)** values in the data. If any NaN values are found, fill these missing values using <u> the mean of the previous and next time step in that particular channel</u>\n",
        ".\n",
        "\n",
        "**Questions:**\n",
        "\n",
        "- What are NaN values?\n",
        "- How might NaN values be introduced into EEG data?\n",
        "\n"
      ],
      "metadata": {
        "id": "Gs8SABe3ZBMb"
      }
    },
    {
      "cell_type": "code",
      "source": [],
      "metadata": {
        "id": "2gFTWBx8ZMol"
      },
      "execution_count": null,
      "outputs": []
    },
    {
      "cell_type": "markdown",
      "source": [
        "# 5. Normalize the Data\n",
        "\n",
        "Normalize the data using two techniques: **Min-Max Normalization** and **Z-Normalization**.\n",
        "\n",
        "- Min-Max Normalization scales the data to a fixed range, typically between 0 and 1.\n",
        "- Z-Normalization transforms the data so that it has a mean of 0 and a standard deviation of 1.\n",
        "\n",
        "**Questions:**\n",
        "\n",
        "- Why is normalization helpful when working with EEG data?\n",
        "- wich one of the min-max or Z normalization is more important and the most frequently used?\n",
        "\n"
      ],
      "metadata": {
        "id": "dJ2WOqFdZMz2"
      }
    },
    {
      "cell_type": "markdown",
      "source": [
        "## Do min-max Normalization Here"
      ],
      "metadata": {
        "id": "aS5ZlwCc9iuh"
      }
    },
    {
      "cell_type": "code",
      "source": [
        "######## ENTER YOUR CODE HERE ########\n",
        "eeg_data_normalized = None\n",
        "\n",
        "\n",
        "\n",
        "######################################\n",
        "import matplotlib.pyplot as plt\n",
        "\n",
        "# Assuming 'eeg_data' is your original data before normalization and 'eeg_data_normalized' is your data after normalization\n",
        "# Plot original data\n",
        "plot_channel = 0  # Change this to the channel you want to plot\n",
        "plt.subplot(1, 2, 1)\n",
        "plt.plot(eeg_data[plot_channel, :])\n",
        "plt.title('Original EEG Data (64 channels)')\n",
        "plt.xlabel('Sample Index')\n",
        "plt.ylabel('Amplitude')\n",
        "plt.legend([f'Channel {i+1}' for i in range(64)], bbox_to_anchor=(1.05, 1), loc='upper left', ncol=2)\n",
        "\n",
        "# Plot normalized data\n",
        "plt.subplot(1, 2, 2)\n",
        "plt.plot(eeg_data_normalized[plot_channel, :])\n",
        "plt.title('Normalized EEG Data (64 channels)')\n",
        "plt.xlabel('Sample Index')\n",
        "plt.ylabel('Normalized Amplitude')\n",
        "plt.legend([f'Channel {i+1}' for i in range(64)], bbox_to_anchor=(1.05, 1), loc='upper left', ncol=2)\n",
        "\n",
        "plt.tight_layout()\n",
        "plt.show()\n"
      ],
      "metadata": {
        "id": "8tceoBhPZc5m"
      },
      "execution_count": null,
      "outputs": []
    },
    {
      "cell_type": "markdown",
      "source": [
        "## Do Z - Normalization Here"
      ],
      "metadata": {
        "id": "sl4t5SDV9pJF"
      }
    },
    {
      "cell_type": "code",
      "source": [
        "import matplotlib.pyplot as plt\n",
        "\n",
        "######## ENTER YOUR CODE HERE ########\n",
        "eeg_data_normalized = None   # you have to calculate this\n",
        "\n",
        "\n",
        "\n",
        "######################################\n",
        "\n",
        "# Assuming 'eeg_data' is your original data before normalization and 'eeg_data_normalized' is your data after normalization\n",
        "# Plot original data\n",
        "plot_channel = 0  # Change this to the channel you want to plot\n",
        "plt.subplot(1, 2, 1)\n",
        "plt.plot(eeg_data[plot_channel, :])\n",
        "plt.title('Original EEG Data (64 channels)')\n",
        "plt.xlabel('Sample Index')\n",
        "plt.ylabel('Amplitude')\n",
        "plt.legend([f'Channel {i+1}' for i in range(64)], bbox_to_anchor=(1.05, 1), loc='upper left', ncol=2)\n",
        "\n",
        "# Plot normalized data\n",
        "plt.subplot(1, 2, 2)\n",
        "plt.plot(eeg_data_normalized[plot_channel, :])\n",
        "plt.title('Normalized EEG Data (64 channels)')\n",
        "plt.xlabel('Sample Index')\n",
        "plt.ylabel('Normalized Amplitude')\n",
        "plt.legend([f'Channel {i+1}' for i in range(64)], bbox_to_anchor=(1.05, 1), loc='upper left', ncol=2)\n",
        "\n",
        "plt.tight_layout()\n",
        "plt.show()\n"
      ],
      "metadata": {
        "id": "LaTg5ywU9pWK"
      },
      "execution_count": null,
      "outputs": []
    },
    {
      "cell_type": "markdown",
      "source": [
        "# 6. Calculate Windowed Correlation Between Two Channels\n",
        "\n",
        "Calculate the correlation between the first two EEG channels. Before doing so, let's discuss windowing:\n",
        "\n",
        "**Windowing:**\n",
        "\n",
        "Windowing is the process of dividing a continuous EEG signal into smaller overlapping segments (windows) to track changes over time. This is useful for calculating correlations between EEG channels in shorter, more focused intervals.\n",
        "\n",
        "For example, with a 1-second window and a 0.5-second stride:\n",
        "\n",
        "- Start with the first window from 0 to 1 second.\n",
        "- Slide the window by 0.5 seconds to create the next one, covering 0.5 to 1.5 seconds.\n",
        "- Continue sliding the window: 1 to 2 seconds, 1.5 to 2.5 seconds, and so on.\n",
        "\n",
        "For example, with a 1-second window and 0.5-second stride, the windows would be: 0 to 1 s, 0.5 to 1.5 s, 1 to 2 s, and so on, with correlations calculated within each window.\n",
        "\n",
        "\n",
        "\n",
        "**Questions:**\n",
        "\n",
        "- Why is correlation important in EEG data analysis?\n",
        "- What are the advantages of calculating correlation using windowing compared to calculating correlation over the entire EEG signal?\n"
      ],
      "metadata": {
        "id": "bt2UZ4hQZsVk"
      }
    },
    {
      "cell_type": "code",
      "source": [
        "# Extract Signal 1 and Signal 2 from the EEG data (channels 1 and 2)\n",
        "signal1 = eeg_data[0, :]  # Channel 1\n",
        "signal2 = eeg_data[1, :]  # Channel 2\n",
        "\n",
        "######## ENTER YOUR CODE HERE ########\n",
        "#  Find the windowed correlation between 'signal1' and 'signal2'\n",
        "\n",
        "correlation_signal = None   # You have to calculate this\n",
        "window_centers = None   # You have to calculate this\n",
        "\n",
        "######################################\n",
        "# Sampling rate and time calculation\n",
        "sampling_rate = 160  # Hz\n",
        "n_samples = eeg_data.shape[1]  # Number of samples based on the signal data\n",
        "time = np.arange(0, n_samples) / sampling_rate  # Time in seconds\n",
        "\n",
        "\n",
        "\n",
        "# Plotting the results\n",
        "fig, axs = plt.subplots(2, 1, figsize=(10, 10))\n",
        "\n",
        "# Plot both signals on the same subplot\n",
        "axs[0].plot(time, signal1, label='Channel 1')\n",
        "axs[0].plot(time, signal2, label='Channel 2', alpha=0.7)  # using alpha for transparency\n",
        "axs[0].set_title('Channel 1 and Channel 2')\n",
        "axs[0].set_xlabel('Time (seconds)')\n",
        "axs[0].set_ylabel('Amplitude')\n",
        "axs[0].legend()\n",
        "\n",
        "# Plot correlation\n",
        "axs[1].plot(window_centers, correlation_signal, label='Correlation', color='r')\n",
        "axs[1].set_title('Sliding Window Correlation')\n",
        "axs[1].set_xlabel('Time (seconds)')\n",
        "axs[1].set_ylabel('Correlation Coefficient')\n",
        "axs[1].legend()\n",
        "\n",
        "plt.tight_layout()\n",
        "plt.show()\n"
      ],
      "metadata": {
        "id": "D0SlHss4pbm5"
      },
      "execution_count": null,
      "outputs": []
    },
    {
      "cell_type": "markdown",
      "source": [
        "# 7. Calculate the Functional Connectivity of the EEG Data\n",
        "\n",
        "Calculate the functional connectivity of the EEG data by computing the **correlation** between all pairs of channels. Visualize this using a **correlation matrix** (or heatmap).\n",
        "\n",
        "**Questions:**\n",
        "\n",
        "- Why is functional connectivity important?\n",
        "- What does the functional connectivity matrix (correlation matrix) look like for an n-channel EEG dataset, and how should each dimension of the matrix be interpreted?"
      ],
      "metadata": {
        "id": "WfFrrM2Rpsax"
      }
    },
    {
      "cell_type": "code",
      "source": [
        "######## ENTER YOUR CODE HERE ########\n",
        "# Calculate the correlation matrix\n",
        "correlation_matrix = None   # You have to calculate this\n",
        "\n",
        "\n",
        "\n",
        "######################################\n",
        "\n",
        "import numpy as np\n",
        "from scipy.io import loadmat\n",
        "import matplotlib.pyplot as plt\n",
        "import seaborn as sns\n",
        "\n",
        "# Assuming 'correlation_matrix' is your calculated correlation matrix\n",
        "\n",
        "# Create a heatmap of the correlation matrix without annotations\n",
        "plt.figure(figsize=(12, 10))\n",
        "sns.heatmap(correlation_matrix, cmap='coolwarm')\n",
        "plt.title('EEG Functional Connectivity (Correlation Map)')\n",
        "plt.xlabel('Channel')\n",
        "plt.ylabel('Channel')\n",
        "plt.show()"
      ],
      "metadata": {
        "id": "I1YJOQHmqGWr"
      },
      "execution_count": null,
      "outputs": []
    }
  ]
}